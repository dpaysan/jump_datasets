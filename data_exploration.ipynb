{
 "cells": [
  {
   "cell_type": "markdown",
   "id": "579925f6",
   "metadata": {},
   "source": [
    "# Data exploration"
   ]
  },
  {
   "cell_type": "markdown",
   "id": "e14c004d",
   "metadata": {},
   "source": [
    "---\n",
    "\n",
    "This notebook serves as an initial data set exploration sandbox. In particular, we are interested in which ORF experiments are available for each source and what is their intersection with the genes available in a given gene-gene interactome."
   ]
  },
  {
   "cell_type": "markdown",
   "id": "faf35f64",
   "metadata": {},
   "source": [
    "---"
   ]
  },
  {
   "cell_type": "markdown",
   "id": "5207ef97",
   "metadata": {},
   "source": [
    "## 0. Environmental setup"
   ]
  },
  {
   "cell_type": "code",
   "execution_count": 34,
   "id": "b3a46c1a",
   "metadata": {},
   "outputs": [
    {
     "name": "stdout",
     "output_type": "stream",
     "text": [
      "The nb_black extension is already loaded. To reload it, use:\n",
      "  %reload_ext nb_black\n"
     ]
    },
    {
     "data": {
      "application/javascript": [
       "\n",
       "            setTimeout(function() {\n",
       "                var nbb_cell_id = 34;\n",
       "                var nbb_unformatted_code = \"import numpy as np\\nimport pandas as pd\\nimport seaborn as sns\\nimport matplotlib.pyplot as plt\\nfrom venn import venn\\nfrom tqdm.notebook import tqdm\\n\\n%load_ext nb_black\";\n",
       "                var nbb_formatted_code = \"import numpy as np\\nimport pandas as pd\\nimport seaborn as sns\\nimport matplotlib.pyplot as plt\\nfrom venn import venn\\nfrom tqdm.notebook import tqdm\\n\\n%load_ext nb_black\";\n",
       "                var nbb_cells = Jupyter.notebook.get_cells();\n",
       "                for (var i = 0; i < nbb_cells.length; ++i) {\n",
       "                    if (nbb_cells[i].input_prompt_number == nbb_cell_id) {\n",
       "                        if (nbb_cells[i].get_text() == nbb_unformatted_code) {\n",
       "                             nbb_cells[i].set_text(nbb_formatted_code);\n",
       "                        }\n",
       "                        break;\n",
       "                    }\n",
       "                }\n",
       "            }, 500);\n",
       "            "
      ],
      "text/plain": [
       "<IPython.core.display.Javascript object>"
      ]
     },
     "metadata": {},
     "output_type": "display_data"
    }
   ],
   "source": [
    "import numpy as np\n",
    "import pandas as pd\n",
    "import seaborn as sns\n",
    "import matplotlib.pyplot as plt\n",
    "from venn import venn\n",
    "from tqdm.notebook import tqdm\n",
    "\n",
    "%load_ext nb_black"
   ]
  },
  {
   "cell_type": "markdown",
   "id": "38e621e7",
   "metadata": {},
   "source": [
    "---\n",
    "\n",
    "## 1. Read in data\n",
    "\n"
   ]
  },
  {
   "cell_type": "code",
   "execution_count": 2,
   "id": "8c019f0e",
   "metadata": {},
   "outputs": [
    {
     "data": {
      "application/javascript": [
       "\n",
       "            setTimeout(function() {\n",
       "                var nbb_cell_id = 2;\n",
       "                var nbb_unformatted_code = \"gene_ia_embs = pd.read_csv(\\\"other_data/all_gene_embeddings_clusters.csv\\\", index_col=0)\\ngene_ia_set = set(gene_ia_embs.gene)\";\n",
       "                var nbb_formatted_code = \"gene_ia_embs = pd.read_csv(\\\"other_data/all_gene_embeddings_clusters.csv\\\", index_col=0)\\ngene_ia_set = set(gene_ia_embs.gene)\";\n",
       "                var nbb_cells = Jupyter.notebook.get_cells();\n",
       "                for (var i = 0; i < nbb_cells.length; ++i) {\n",
       "                    if (nbb_cells[i].input_prompt_number == nbb_cell_id) {\n",
       "                        if (nbb_cells[i].get_text() == nbb_unformatted_code) {\n",
       "                             nbb_cells[i].set_text(nbb_formatted_code);\n",
       "                        }\n",
       "                        break;\n",
       "                    }\n",
       "                }\n",
       "            }, 500);\n",
       "            "
      ],
      "text/plain": [
       "<IPython.core.display.Javascript object>"
      ]
     },
     "metadata": {},
     "output_type": "display_data"
    }
   ],
   "source": [
    "gene_ia_embs = pd.read_csv(\"other_data/all_gene_embeddings_clusters.csv\", index_col=0)\n",
    "gene_ia_set = set(gene_ia_embs.gene)"
   ]
  },
  {
   "cell_type": "code",
   "execution_count": 3,
   "id": "8bfa165d",
   "metadata": {},
   "outputs": [
    {
     "data": {
      "application/javascript": [
       "\n",
       "            setTimeout(function() {\n",
       "                var nbb_cell_id = 3;\n",
       "                var nbb_unformatted_code = \"well_data = pd.read_csv(\\\"metadata/well.csv\\\")\\norf_data = pd.read_csv(\\\"metadata/orf.csv\\\")\\nplate_data = pd.read_csv(\\\"metadata/plate.csv\\\")\";\n",
       "                var nbb_formatted_code = \"well_data = pd.read_csv(\\\"metadata/well.csv\\\")\\norf_data = pd.read_csv(\\\"metadata/orf.csv\\\")\\nplate_data = pd.read_csv(\\\"metadata/plate.csv\\\")\";\n",
       "                var nbb_cells = Jupyter.notebook.get_cells();\n",
       "                for (var i = 0; i < nbb_cells.length; ++i) {\n",
       "                    if (nbb_cells[i].input_prompt_number == nbb_cell_id) {\n",
       "                        if (nbb_cells[i].get_text() == nbb_unformatted_code) {\n",
       "                             nbb_cells[i].set_text(nbb_formatted_code);\n",
       "                        }\n",
       "                        break;\n",
       "                    }\n",
       "                }\n",
       "            }, 500);\n",
       "            "
      ],
      "text/plain": [
       "<IPython.core.display.Javascript object>"
      ]
     },
     "metadata": {},
     "output_type": "display_data"
    }
   ],
   "source": [
    "well_data = pd.read_csv(\"metadata/well.csv\")\n",
    "orf_data = pd.read_csv(\"metadata/orf.csv\")\n",
    "plate_data = pd.read_csv(\"metadata/plate.csv\")"
   ]
  },
  {
   "cell_type": "markdown",
   "id": "911deae3",
   "metadata": {},
   "source": [
    "---\n",
    "\n",
    "## 2. Exploratory data analysis\n",
    "\n",
    "After having read in the data, we will now explore the data. To this end, we will first look at the overlap of experiments targetting genes for overexpression that are part of the gene gene interactome we had derived in the Image2Reg project.\n",
    "\n",
    "### 2.1. Interactome coverage"
   ]
  },
  {
   "cell_type": "code",
   "execution_count": 4,
   "id": "21f3fc2d",
   "metadata": {},
   "outputs": [
    {
     "data": {
      "text/html": [
       "<div>\n",
       "<style scoped>\n",
       "    .dataframe tbody tr th:only-of-type {\n",
       "        vertical-align: middle;\n",
       "    }\n",
       "\n",
       "    .dataframe tbody tr th {\n",
       "        vertical-align: top;\n",
       "    }\n",
       "\n",
       "    .dataframe thead th {\n",
       "        text-align: right;\n",
       "    }\n",
       "</style>\n",
       "<table border=\"1\" class=\"dataframe\">\n",
       "  <thead>\n",
       "    <tr style=\"text-align: right;\">\n",
       "      <th></th>\n",
       "      <th>Metadata_Source</th>\n",
       "      <th>Metadata_Plate</th>\n",
       "      <th>Metadata_Well</th>\n",
       "      <th>Metadata_JCP2022</th>\n",
       "      <th>Metadata_broad_sample</th>\n",
       "      <th>Metadata_Name</th>\n",
       "      <th>Metadata_Vector</th>\n",
       "      <th>Metadata_Transcript</th>\n",
       "      <th>Metadata_Symbol</th>\n",
       "      <th>Metadata_NCBI_Gene_ID</th>\n",
       "      <th>Metadata_Taxon_ID</th>\n",
       "      <th>Metadata_Gene_Description</th>\n",
       "      <th>Metadata_Prot_Match</th>\n",
       "      <th>Metadata_Insert_Length</th>\n",
       "      <th>Metadata_pert_type</th>\n",
       "      <th>Metadata_Batch</th>\n",
       "      <th>Metadata_PlateType</th>\n",
       "    </tr>\n",
       "  </thead>\n",
       "  <tbody>\n",
       "    <tr>\n",
       "      <th>0</th>\n",
       "      <td>source_4</td>\n",
       "      <td>BR00117035</td>\n",
       "      <td>A01</td>\n",
       "      <td>JCP2022_905588</td>\n",
       "      <td>ccsbBroad304_05979</td>\n",
       "      <td>ORF000779.1_TRC304.1</td>\n",
       "      <td>pLX_304</td>\n",
       "      <td>NM_001261.4</td>\n",
       "      <td>CDK9</td>\n",
       "      <td>1025</td>\n",
       "      <td>9606</td>\n",
       "      <td>cyclin dependent kinase 9</td>\n",
       "      <td>100.0</td>\n",
       "      <td>1116.0</td>\n",
       "      <td>trt</td>\n",
       "      <td>2021_04_26_Batch1</td>\n",
       "      <td>ORF</td>\n",
       "    </tr>\n",
       "    <tr>\n",
       "      <th>1</th>\n",
       "      <td>source_4</td>\n",
       "      <td>BR00117035</td>\n",
       "      <td>A02</td>\n",
       "      <td>JCP2022_912241</td>\n",
       "      <td>ccsbBroad304_13129</td>\n",
       "      <td>ORF007469.1_TRC304.1</td>\n",
       "      <td>pLX_304</td>\n",
       "      <td>NM_001352984.2</td>\n",
       "      <td>HMGB4</td>\n",
       "      <td>127540</td>\n",
       "      <td>9606</td>\n",
       "      <td>high mobility group box 4</td>\n",
       "      <td>99.1</td>\n",
       "      <td>336.0</td>\n",
       "      <td>trt</td>\n",
       "      <td>2021_04_26_Batch1</td>\n",
       "      <td>ORF</td>\n",
       "    </tr>\n",
       "    <tr>\n",
       "      <th>2</th>\n",
       "      <td>source_4</td>\n",
       "      <td>BR00117035</td>\n",
       "      <td>A03</td>\n",
       "      <td>JCP2022_900266</td>\n",
       "      <td>ccsbBroad304_00289</td>\n",
       "      <td>ORF011627.1_TRC304.1</td>\n",
       "      <td>pLX_304</td>\n",
       "      <td>NM_001805.3</td>\n",
       "      <td>CEBPE</td>\n",
       "      <td>1053</td>\n",
       "      <td>9606</td>\n",
       "      <td>CCAAT enhancer binding protein epsilon</td>\n",
       "      <td>100.0</td>\n",
       "      <td>843.0</td>\n",
       "      <td>trt</td>\n",
       "      <td>2021_04_26_Batch1</td>\n",
       "      <td>ORF</td>\n",
       "    </tr>\n",
       "    <tr>\n",
       "      <th>3</th>\n",
       "      <td>source_4</td>\n",
       "      <td>BR00117035</td>\n",
       "      <td>A04</td>\n",
       "      <td>JCP2022_915129</td>\n",
       "      <td>ccsbBroad304_99988</td>\n",
       "      <td>ORFC00002.1_TRC304.1</td>\n",
       "      <td>pLX_304</td>\n",
       "      <td>HcRed.1</td>\n",
       "      <td>HcRed</td>\n",
       "      <td>HcRed</td>\n",
       "      <td>CONTROL</td>\n",
       "      <td>NaN</td>\n",
       "      <td>NaN</td>\n",
       "      <td>824.0</td>\n",
       "      <td>negcon</td>\n",
       "      <td>2021_04_26_Batch1</td>\n",
       "      <td>ORF</td>\n",
       "    </tr>\n",
       "    <tr>\n",
       "      <th>4</th>\n",
       "      <td>source_4</td>\n",
       "      <td>BR00117035</td>\n",
       "      <td>J21</td>\n",
       "      <td>JCP2022_915129</td>\n",
       "      <td>ccsbBroad304_99988</td>\n",
       "      <td>ORFC00002.1_TRC304.1</td>\n",
       "      <td>pLX_304</td>\n",
       "      <td>HcRed.1</td>\n",
       "      <td>HcRed</td>\n",
       "      <td>HcRed</td>\n",
       "      <td>CONTROL</td>\n",
       "      <td>NaN</td>\n",
       "      <td>NaN</td>\n",
       "      <td>824.0</td>\n",
       "      <td>negcon</td>\n",
       "      <td>2021_04_26_Batch1</td>\n",
       "      <td>ORF</td>\n",
       "    </tr>\n",
       "  </tbody>\n",
       "</table>\n",
       "</div>"
      ],
      "text/plain": [
       "  Metadata_Source Metadata_Plate Metadata_Well Metadata_JCP2022  \\\n",
       "0        source_4     BR00117035           A01   JCP2022_905588   \n",
       "1        source_4     BR00117035           A02   JCP2022_912241   \n",
       "2        source_4     BR00117035           A03   JCP2022_900266   \n",
       "3        source_4     BR00117035           A04   JCP2022_915129   \n",
       "4        source_4     BR00117035           J21   JCP2022_915129   \n",
       "\n",
       "  Metadata_broad_sample         Metadata_Name Metadata_Vector  \\\n",
       "0    ccsbBroad304_05979  ORF000779.1_TRC304.1         pLX_304   \n",
       "1    ccsbBroad304_13129  ORF007469.1_TRC304.1         pLX_304   \n",
       "2    ccsbBroad304_00289  ORF011627.1_TRC304.1         pLX_304   \n",
       "3    ccsbBroad304_99988  ORFC00002.1_TRC304.1         pLX_304   \n",
       "4    ccsbBroad304_99988  ORFC00002.1_TRC304.1         pLX_304   \n",
       "\n",
       "  Metadata_Transcript Metadata_Symbol Metadata_NCBI_Gene_ID Metadata_Taxon_ID  \\\n",
       "0         NM_001261.4            CDK9                  1025              9606   \n",
       "1      NM_001352984.2           HMGB4                127540              9606   \n",
       "2         NM_001805.3           CEBPE                  1053              9606   \n",
       "3             HcRed.1           HcRed                 HcRed           CONTROL   \n",
       "4             HcRed.1           HcRed                 HcRed           CONTROL   \n",
       "\n",
       "                Metadata_Gene_Description  Metadata_Prot_Match  \\\n",
       "0               cyclin dependent kinase 9                100.0   \n",
       "1               high mobility group box 4                 99.1   \n",
       "2  CCAAT enhancer binding protein epsilon                100.0   \n",
       "3                                     NaN                  NaN   \n",
       "4                                     NaN                  NaN   \n",
       "\n",
       "   Metadata_Insert_Length Metadata_pert_type     Metadata_Batch  \\\n",
       "0                  1116.0                trt  2021_04_26_Batch1   \n",
       "1                   336.0                trt  2021_04_26_Batch1   \n",
       "2                   843.0                trt  2021_04_26_Batch1   \n",
       "3                   824.0             negcon  2021_04_26_Batch1   \n",
       "4                   824.0             negcon  2021_04_26_Batch1   \n",
       "\n",
       "  Metadata_PlateType  \n",
       "0                ORF  \n",
       "1                ORF  \n",
       "2                ORF  \n",
       "3                ORF  \n",
       "4                ORF  "
      ]
     },
     "execution_count": 4,
     "metadata": {},
     "output_type": "execute_result"
    },
    {
     "data": {
      "application/javascript": [
       "\n",
       "            setTimeout(function() {\n",
       "                var nbb_cell_id = 4;\n",
       "                var nbb_unformatted_code = \"all_orf_data = well_data.merge(\\n    orf_data, right_on=\\\"Metadata_JCP2022\\\", left_on=\\\"Metadata_JCP2022\\\", how=\\\"inner\\\"\\n)\\nall_orf_data = all_orf_data.merge(\\n    plate_data.loc[:, [\\\"Metadata_Plate\\\", \\\"Metadata_Batch\\\", \\\"Metadata_PlateType\\\"]],\\n    right_on=\\\"Metadata_Plate\\\",\\n    left_on=\\\"Metadata_Plate\\\",\\n)\\nall_orf_data.head()\";\n",
       "                var nbb_formatted_code = \"all_orf_data = well_data.merge(\\n    orf_data, right_on=\\\"Metadata_JCP2022\\\", left_on=\\\"Metadata_JCP2022\\\", how=\\\"inner\\\"\\n)\\nall_orf_data = all_orf_data.merge(\\n    plate_data.loc[:, [\\\"Metadata_Plate\\\", \\\"Metadata_Batch\\\", \\\"Metadata_PlateType\\\"]],\\n    right_on=\\\"Metadata_Plate\\\",\\n    left_on=\\\"Metadata_Plate\\\",\\n)\\nall_orf_data.head()\";\n",
       "                var nbb_cells = Jupyter.notebook.get_cells();\n",
       "                for (var i = 0; i < nbb_cells.length; ++i) {\n",
       "                    if (nbb_cells[i].input_prompt_number == nbb_cell_id) {\n",
       "                        if (nbb_cells[i].get_text() == nbb_unformatted_code) {\n",
       "                             nbb_cells[i].set_text(nbb_formatted_code);\n",
       "                        }\n",
       "                        break;\n",
       "                    }\n",
       "                }\n",
       "            }, 500);\n",
       "            "
      ],
      "text/plain": [
       "<IPython.core.display.Javascript object>"
      ]
     },
     "metadata": {},
     "output_type": "display_data"
    }
   ],
   "source": [
    "all_orf_data = well_data.merge(\n",
    "    orf_data, right_on=\"Metadata_JCP2022\", left_on=\"Metadata_JCP2022\", how=\"inner\"\n",
    ")\n",
    "all_orf_data = all_orf_data.merge(\n",
    "    plate_data.loc[:, [\"Metadata_Plate\", \"Metadata_Batch\", \"Metadata_PlateType\"]],\n",
    "    right_on=\"Metadata_Plate\",\n",
    "    left_on=\"Metadata_Plate\",\n",
    ")\n",
    "all_orf_data.head()"
   ]
  },
  {
   "cell_type": "code",
   "execution_count": 5,
   "id": "10cf298d",
   "metadata": {},
   "outputs": [
    {
     "data": {
      "image/png": "[encoded data removed]",
      "text/plain": [
       "<Figure size 3600x600 with 1 Axes>"
      ]
     },
     "metadata": {},
     "output_type": "display_data"
    },
    {
     "data": {
      "application/javascript": [
       "\n",
       "            setTimeout(function() {\n",
       "                var nbb_cell_id = 5;\n",
       "                var nbb_unformatted_code = \"fig, ax = plt.subplots(figsize=[36, 6])\\nax = sns.countplot(\\n    data=all_orf_data.loc[all_orf_data.Metadata_Symbol.isin(gene_ia_set)],\\n    x=\\\"Metadata_Symbol\\\",\\n    order=sorted(gene_ia_set),\\n    # hue=\\\"Metadata_Batch\\\",\\n)\\nplt.xticks(rotation=90)\\nplt.show()\";\n",
       "                var nbb_formatted_code = \"fig, ax = plt.subplots(figsize=[36, 6])\\nax = sns.countplot(\\n    data=all_orf_data.loc[all_orf_data.Metadata_Symbol.isin(gene_ia_set)],\\n    x=\\\"Metadata_Symbol\\\",\\n    order=sorted(gene_ia_set),\\n    # hue=\\\"Metadata_Batch\\\",\\n)\\nplt.xticks(rotation=90)\\nplt.show()\";\n",
       "                var nbb_cells = Jupyter.notebook.get_cells();\n",
       "                for (var i = 0; i < nbb_cells.length; ++i) {\n",
       "                    if (nbb_cells[i].input_prompt_number == nbb_cell_id) {\n",
       "                        if (nbb_cells[i].get_text() == nbb_unformatted_code) {\n",
       "                             nbb_cells[i].set_text(nbb_formatted_code);\n",
       "                        }\n",
       "                        break;\n",
       "                    }\n",
       "                }\n",
       "            }, 500);\n",
       "            "
      ],
      "text/plain": [
       "<IPython.core.display.Javascript object>"
      ]
     },
     "metadata": {},
     "output_type": "display_data"
    }
   ],
   "source": [
    "fig, ax = plt.subplots(figsize=[36, 6])\n",
    "ax = sns.countplot(\n",
    "    data=all_orf_data.loc[all_orf_data.Metadata_Symbol.isin(gene_ia_set)],\n",
    "    x=\"Metadata_Symbol\",\n",
    "    order=sorted(gene_ia_set),\n",
    "    # hue=\"Metadata_Batch\",\n",
    ")\n",
    "plt.xticks(rotation=90)\n",
    "plt.show()"
   ]
  },
  {
   "cell_type": "markdown",
   "id": "a094cd3f",
   "metadata": {},
   "source": [
    "As seen in the plot the JCP data set contains many of overexpression experiments that target the genes covered in the gene-gene interactome.\n",
    "\n",
    "In total 175/249 genes are covered with an average of 7.61 +/- 3.70 wells for each as seen below."
   ]
  },
  {
   "cell_type": "code",
   "execution_count": 6,
   "id": "be80cbeb",
   "metadata": {},
   "outputs": [
    {
     "data": {
      "image/png": "[encoded data removed]",
      "text/plain": [
       "<Figure size 800x800 with 1 Axes>"
      ]
     },
     "metadata": {},
     "output_type": "display_data"
    },
    {
     "data": {
      "application/javascript": [
       "\n",
       "            setTimeout(function() {\n",
       "                var nbb_cell_id = 6;\n",
       "                var nbb_unformatted_code = \"jcp_gene_list = set(all_orf_data.Metadata_Symbol)\\nax = venn({\\\"JCP2022\\\": jcp_gene_list, \\\"GGI\\\": gene_ia_set})\\nplt.show()\";\n",
       "                var nbb_formatted_code = \"jcp_gene_list = set(all_orf_data.Metadata_Symbol)\\nax = venn({\\\"JCP2022\\\": jcp_gene_list, \\\"GGI\\\": gene_ia_set})\\nplt.show()\";\n",
       "                var nbb_cells = Jupyter.notebook.get_cells();\n",
       "                for (var i = 0; i < nbb_cells.length; ++i) {\n",
       "                    if (nbb_cells[i].input_prompt_number == nbb_cell_id) {\n",
       "                        if (nbb_cells[i].get_text() == nbb_unformatted_code) {\n",
       "                             nbb_cells[i].set_text(nbb_formatted_code);\n",
       "                        }\n",
       "                        break;\n",
       "                    }\n",
       "                }\n",
       "            }, 500);\n",
       "            "
      ],
      "text/plain": [
       "<IPython.core.display.Javascript object>"
      ]
     },
     "metadata": {},
     "output_type": "display_data"
    }
   ],
   "source": [
    "jcp_gene_list = set(all_orf_data.Metadata_Symbol)\n",
    "ax = venn({\"JCP2022\": jcp_gene_list, \"GGI\": gene_ia_set})\n",
    "plt.show()"
   ]
  },
  {
   "cell_type": "code",
   "execution_count": 7,
   "id": "6cdaccb7",
   "metadata": {},
   "outputs": [
    {
     "data": {
      "text/plain": [
       "count    175.000000\n",
       "mean       7.611429\n",
       "std        3.701178\n",
       "min        5.000000\n",
       "25%        5.000000\n",
       "50%        5.000000\n",
       "75%       10.000000\n",
       "max       21.000000\n",
       "Name: Metadata_Source, dtype: float64"
      ]
     },
     "execution_count": 7,
     "metadata": {},
     "output_type": "execute_result"
    },
    {
     "data": {
      "application/javascript": [
       "\n",
       "            setTimeout(function() {\n",
       "                var nbb_cell_id = 7;\n",
       "                var nbb_unformatted_code = \"all_orf_data.loc[all_orf_data.Metadata_Symbol.isin(gene_ia_set)].groupby(\\n    \\\"Metadata_Symbol\\\"\\n).count().Metadata_Source.describe()\";\n",
       "                var nbb_formatted_code = \"all_orf_data.loc[all_orf_data.Metadata_Symbol.isin(gene_ia_set)].groupby(\\n    \\\"Metadata_Symbol\\\"\\n).count().Metadata_Source.describe()\";\n",
       "                var nbb_cells = Jupyter.notebook.get_cells();\n",
       "                for (var i = 0; i < nbb_cells.length; ++i) {\n",
       "                    if (nbb_cells[i].input_prompt_number == nbb_cell_id) {\n",
       "                        if (nbb_cells[i].get_text() == nbb_unformatted_code) {\n",
       "                             nbb_cells[i].set_text(nbb_formatted_code);\n",
       "                        }\n",
       "                        break;\n",
       "                    }\n",
       "                }\n",
       "            }, 500);\n",
       "            "
      ],
      "text/plain": [
       "<IPython.core.display.Javascript object>"
      ]
     },
     "metadata": {},
     "output_type": "display_data"
    }
   ],
   "source": [
    "all_orf_data.loc[all_orf_data.Metadata_Symbol.isin(gene_ia_set)].groupby(\n",
    "    \"Metadata_Symbol\"\n",
    ").count().Metadata_Source.describe()"
   ]
  },
  {
   "cell_type": "markdown",
   "id": "324d400f",
   "metadata": {},
   "source": [
    "It is important to mention that these were obtained from different experimental batches and potential batch effects need to be investigated."
   ]
  },
  {
   "cell_type": "code",
   "execution_count": 10,
   "id": "1e169dca",
   "metadata": {},
   "outputs": [
    {
     "data": {
      "image/png": "[encoded data removed]",
      "text/plain": [
       "<Figure size 600x400 with 1 Axes>"
      ]
     },
     "metadata": {},
     "output_type": "display_data"
    },
    {
     "data": {
      "application/javascript": [
       "\n",
       "            setTimeout(function() {\n",
       "                var nbb_cell_id = 10;\n",
       "                var nbb_unformatted_code = \"fig, ax = plt.subplots(figsize=[6, 4])\\nax = sns.countplot(\\n    data=all_orf_data.loc[all_orf_data.Metadata_Symbol.isin(gene_ia_set)],\\n    x=\\\"Metadata_Batch\\\",\\n    # order=sorted(gene_ia_list),\\n    # hue=\\\"Metadata_Batch\\\",\\n    palette=[\\\"b\\\"],\\n)\\nplt.xticks(rotation=90)\\nplt.show()\";\n",
       "                var nbb_formatted_code = \"fig, ax = plt.subplots(figsize=[6, 4])\\nax = sns.countplot(\\n    data=all_orf_data.loc[all_orf_data.Metadata_Symbol.isin(gene_ia_set)],\\n    x=\\\"Metadata_Batch\\\",\\n    # order=sorted(gene_ia_list),\\n    # hue=\\\"Metadata_Batch\\\",\\n    palette=[\\\"b\\\"],\\n)\\nplt.xticks(rotation=90)\\nplt.show()\";\n",
       "                var nbb_cells = Jupyter.notebook.get_cells();\n",
       "                for (var i = 0; i < nbb_cells.length; ++i) {\n",
       "                    if (nbb_cells[i].input_prompt_number == nbb_cell_id) {\n",
       "                        if (nbb_cells[i].get_text() == nbb_unformatted_code) {\n",
       "                             nbb_cells[i].set_text(nbb_formatted_code);\n",
       "                        }\n",
       "                        break;\n",
       "                    }\n",
       "                }\n",
       "            }, 500);\n",
       "            "
      ],
      "text/plain": [
       "<IPython.core.display.Javascript object>"
      ]
     },
     "metadata": {},
     "output_type": "display_data"
    }
   ],
   "source": [
    "fig, ax = plt.subplots(figsize=[6, 4])\n",
    "ax = sns.countplot(\n",
    "    data=all_orf_data.loc[all_orf_data.Metadata_Symbol.isin(gene_ia_set)],\n",
    "    x=\"Metadata_Batch\",\n",
    "    # order=sorted(gene_ia_list),\n",
    "    # hue=\"Metadata_Batch\",\n",
    "    palette=[\"b\"],\n",
    ")\n",
    "plt.xticks(rotation=90)\n",
    "plt.show()"
   ]
  },
  {
   "cell_type": "markdown",
   "id": "5ad84769",
   "metadata": {},
   "source": [
    "---\n",
    "\n",
    "### 2.2. Data set size"
   ]
  },
  {
   "cell_type": "markdown",
   "id": "b0697444",
   "metadata": {},
   "source": [
    "We will now further assess the dimensions of the data set by checking how many nuclei are available for each overexpression condition covered in our GGI."
   ]
  },
  {
   "cell_type": "code",
   "execution_count": 27,
   "id": "9958cab2",
   "metadata": {},
   "outputs": [
    {
     "data": {
      "text/html": [
       "<div>\n",
       "<style scoped>\n",
       "    .dataframe tbody tr th:only-of-type {\n",
       "        vertical-align: middle;\n",
       "    }\n",
       "\n",
       "    .dataframe tbody tr th {\n",
       "        vertical-align: top;\n",
       "    }\n",
       "\n",
       "    .dataframe thead th {\n",
       "        text-align: right;\n",
       "    }\n",
       "</style>\n",
       "<table border=\"1\" class=\"dataframe\">\n",
       "  <thead>\n",
       "    <tr style=\"text-align: right;\">\n",
       "      <th></th>\n",
       "      <th>Metadata_Source</th>\n",
       "      <th>Metadata_Plate</th>\n",
       "      <th>Metadata_Well</th>\n",
       "      <th>Metadata_JCP2022</th>\n",
       "      <th>Metadata_broad_sample</th>\n",
       "      <th>Metadata_Name</th>\n",
       "      <th>Metadata_Vector</th>\n",
       "      <th>Metadata_Transcript</th>\n",
       "      <th>Metadata_Symbol</th>\n",
       "      <th>Metadata_NCBI_Gene_ID</th>\n",
       "      <th>Metadata_Taxon_ID</th>\n",
       "      <th>Metadata_Gene_Description</th>\n",
       "      <th>Metadata_Prot_Match</th>\n",
       "      <th>Metadata_Insert_Length</th>\n",
       "      <th>Metadata_pert_type</th>\n",
       "      <th>Metadata_Batch</th>\n",
       "      <th>Metadata_PlateType</th>\n",
       "    </tr>\n",
       "  </thead>\n",
       "  <tbody>\n",
       "    <tr>\n",
       "      <th>103</th>\n",
       "      <td>source_4</td>\n",
       "      <td>BR00117035</td>\n",
       "      <td>E06</td>\n",
       "      <td>JCP2022_900331</td>\n",
       "      <td>ccsbBroad304_00360</td>\n",
       "      <td>ORF000135.1_TRC304.1</td>\n",
       "      <td>pLX_304</td>\n",
       "      <td>NM_134442.5</td>\n",
       "      <td>CREB1</td>\n",
       "      <td>1385</td>\n",
       "      <td>9606</td>\n",
       "      <td>cAMP responsive element binding protein 1</td>\n",
       "      <td>100.0</td>\n",
       "      <td>1023.0</td>\n",
       "      <td>trt</td>\n",
       "      <td>2021_04_26_Batch1</td>\n",
       "      <td>ORF</td>\n",
       "    </tr>\n",
       "    <tr>\n",
       "      <th>138</th>\n",
       "      <td>source_4</td>\n",
       "      <td>BR00117035</td>\n",
       "      <td>F18</td>\n",
       "      <td>JCP2022_902710</td>\n",
       "      <td>ccsbBroad304_02889</td>\n",
       "      <td>ORF010172.1_TRC304.1</td>\n",
       "      <td>pLX_304</td>\n",
       "      <td>NM_001348362.1</td>\n",
       "      <td>WWTR1</td>\n",
       "      <td>25937</td>\n",
       "      <td>9606</td>\n",
       "      <td>WW domain containing transcription regulator 1</td>\n",
       "      <td>100.0</td>\n",
       "      <td>1200.0</td>\n",
       "      <td>trt</td>\n",
       "      <td>2021_04_26_Batch1</td>\n",
       "      <td>ORF</td>\n",
       "    </tr>\n",
       "    <tr>\n",
       "      <th>180</th>\n",
       "      <td>source_4</td>\n",
       "      <td>BR00117035</td>\n",
       "      <td>H11</td>\n",
       "      <td>JCP2022_905780</td>\n",
       "      <td>ccsbBroad304_06179</td>\n",
       "      <td>ORF014130.1_TRC304.1</td>\n",
       "      <td>pLX_304</td>\n",
       "      <td>NM_182918.4</td>\n",
       "      <td>ERG</td>\n",
       "      <td>2078</td>\n",
       "      <td>9606</td>\n",
       "      <td>ETS transcription factor ERG</td>\n",
       "      <td>73.6</td>\n",
       "      <td>1428.0</td>\n",
       "      <td>trt</td>\n",
       "      <td>2021_04_26_Batch1</td>\n",
       "      <td>ORF</td>\n",
       "    </tr>\n",
       "    <tr>\n",
       "      <th>222</th>\n",
       "      <td>source_4</td>\n",
       "      <td>BR00117035</td>\n",
       "      <td>J05</td>\n",
       "      <td>JCP2022_900466</td>\n",
       "      <td>ccsbBroad304_00498</td>\n",
       "      <td>ORF005645.1_TRC304.1</td>\n",
       "      <td>pLX_304</td>\n",
       "      <td>NM_001114123.2</td>\n",
       "      <td>ELK1</td>\n",
       "      <td>2002</td>\n",
       "      <td>9606</td>\n",
       "      <td>ETS transcription factor ELK1</td>\n",
       "      <td>100.0</td>\n",
       "      <td>1284.0</td>\n",
       "      <td>trt</td>\n",
       "      <td>2021_04_26_Batch1</td>\n",
       "      <td>ORF</td>\n",
       "    </tr>\n",
       "    <tr>\n",
       "      <th>469</th>\n",
       "      <td>source_4</td>\n",
       "      <td>BR00117036</td>\n",
       "      <td>E06</td>\n",
       "      <td>JCP2022_900331</td>\n",
       "      <td>ccsbBroad304_00360</td>\n",
       "      <td>ORF000135.1_TRC304.1</td>\n",
       "      <td>pLX_304</td>\n",
       "      <td>NM_134442.5</td>\n",
       "      <td>CREB1</td>\n",
       "      <td>1385</td>\n",
       "      <td>9606</td>\n",
       "      <td>cAMP responsive element binding protein 1</td>\n",
       "      <td>100.0</td>\n",
       "      <td>1023.0</td>\n",
       "      <td>trt</td>\n",
       "      <td>2021_04_26_Batch1</td>\n",
       "      <td>ORF</td>\n",
       "    </tr>\n",
       "  </tbody>\n",
       "</table>\n",
       "</div>"
      ],
      "text/plain": [
       "    Metadata_Source Metadata_Plate Metadata_Well Metadata_JCP2022  \\\n",
       "103        source_4     BR00117035           E06   JCP2022_900331   \n",
       "138        source_4     BR00117035           F18   JCP2022_902710   \n",
       "180        source_4     BR00117035           H11   JCP2022_905780   \n",
       "222        source_4     BR00117035           J05   JCP2022_900466   \n",
       "469        source_4     BR00117036           E06   JCP2022_900331   \n",
       "\n",
       "    Metadata_broad_sample         Metadata_Name Metadata_Vector  \\\n",
       "103    ccsbBroad304_00360  ORF000135.1_TRC304.1         pLX_304   \n",
       "138    ccsbBroad304_02889  ORF010172.1_TRC304.1         pLX_304   \n",
       "180    ccsbBroad304_06179  ORF014130.1_TRC304.1         pLX_304   \n",
       "222    ccsbBroad304_00498  ORF005645.1_TRC304.1         pLX_304   \n",
       "469    ccsbBroad304_00360  ORF000135.1_TRC304.1         pLX_304   \n",
       "\n",
       "    Metadata_Transcript Metadata_Symbol Metadata_NCBI_Gene_ID  \\\n",
       "103         NM_134442.5           CREB1                  1385   \n",
       "138      NM_001348362.1           WWTR1                 25937   \n",
       "180         NM_182918.4             ERG                  2078   \n",
       "222      NM_001114123.2            ELK1                  2002   \n",
       "469         NM_134442.5           CREB1                  1385   \n",
       "\n",
       "    Metadata_Taxon_ID                       Metadata_Gene_Description  \\\n",
       "103              9606       cAMP responsive element binding protein 1   \n",
       "138              9606  WW domain containing transcription regulator 1   \n",
       "180              9606                    ETS transcription factor ERG   \n",
       "222              9606                   ETS transcription factor ELK1   \n",
       "469              9606       cAMP responsive element binding protein 1   \n",
       "\n",
       "     Metadata_Prot_Match  Metadata_Insert_Length Metadata_pert_type  \\\n",
       "103                100.0                  1023.0                trt   \n",
       "138                100.0                  1200.0                trt   \n",
       "180                 73.6                  1428.0                trt   \n",
       "222                100.0                  1284.0                trt   \n",
       "469                100.0                  1023.0                trt   \n",
       "\n",
       "        Metadata_Batch Metadata_PlateType  \n",
       "103  2021_04_26_Batch1                ORF  \n",
       "138  2021_04_26_Batch1                ORF  \n",
       "180  2021_04_26_Batch1                ORF  \n",
       "222  2021_04_26_Batch1                ORF  \n",
       "469  2021_04_26_Batch1                ORF  "
      ]
     },
     "execution_count": 27,
     "metadata": {},
     "output_type": "execute_result"
    },
    {
     "data": {
      "application/javascript": [
       "\n",
       "            setTimeout(function() {\n",
       "                var nbb_cell_id = 27;\n",
       "                var nbb_unformatted_code = \"corf_data = all_orf_data.loc[\\n    all_orf_data.Metadata_Symbol.isin(gene_ia_set)\\n].sort_values([\\\"Metadata_Plate\\\", \\\"Metadata_Well\\\"])\\ncorf_data.head()\";\n",
       "                var nbb_formatted_code = \"corf_data = all_orf_data.loc[\\n    all_orf_data.Metadata_Symbol.isin(gene_ia_set)\\n].sort_values([\\\"Metadata_Plate\\\", \\\"Metadata_Well\\\"])\\ncorf_data.head()\";\n",
       "                var nbb_cells = Jupyter.notebook.get_cells();\n",
       "                for (var i = 0; i < nbb_cells.length; ++i) {\n",
       "                    if (nbb_cells[i].input_prompt_number == nbb_cell_id) {\n",
       "                        if (nbb_cells[i].get_text() == nbb_unformatted_code) {\n",
       "                             nbb_cells[i].set_text(nbb_formatted_code);\n",
       "                        }\n",
       "                        break;\n",
       "                    }\n",
       "                }\n",
       "            }, 500);\n",
       "            "
      ],
      "text/plain": [
       "<IPython.core.display.Javascript object>"
      ]
     },
     "metadata": {},
     "output_type": "display_data"
    }
   ],
   "source": [
    "corf_data = all_orf_data.loc[\n",
    "    all_orf_data.Metadata_Symbol.isin(gene_ia_set)\n",
    "].sort_values([\"Metadata_Plate\", \"Metadata_Well\"])\n",
    "corf_data.head()"
   ]
  },
  {
   "cell_type": "markdown",
   "id": "6a2f1b04",
   "metadata": {},
   "source": [
    "In total 1,332 wells were imaged for our 175 genes. For each well we will have 9 images forming a total size of 11,988 images that will form the new data set spread across 232 plates."
   ]
  },
  {
   "cell_type": "markdown",
   "id": "0aa6f866",
   "metadata": {},
   "source": [
    "---"
   ]
  },
  {
   "cell_type": "markdown",
   "id": "7727507b",
   "metadata": {},
   "source": [
    "We will now scrape the corresponding image-level profile information from the AWS bucket that give us a first indication on how many nuclei per condition we are looking at although the actual number might differ as we will use our own segmentation model."
   ]
  },
  {
   "cell_type": "code",
   "execution_count": 37,
   "id": "7d6b703b",
   "metadata": {},
   "outputs": [
    {
     "data": {
      "application/javascript": [
       "\n",
       "            setTimeout(function() {\n",
       "                var nbb_cell_id = 37;\n",
       "                var nbb_unformatted_code = \"image_profile_formatter = (\\n    \\\"https://cellpainting-gallery.s3.amazonaws.com/cpg0016-jump/\\\"\\n    \\\"{source}/workspace/analysis/{batch}/{plate}/analysis/{plate}-{well}-{img}/Image.csv\\\"\\n)\";\n",
       "                var nbb_formatted_code = \"image_profile_formatter = (\\n    \\\"https://cellpainting-gallery.s3.amazonaws.com/cpg0016-jump/\\\"\\n    \\\"{source}/workspace/analysis/{batch}/{plate}/analysis/{plate}-{well}-{img}/Image.csv\\\"\\n)\";\n",
       "                var nbb_cells = Jupyter.notebook.get_cells();\n",
       "                for (var i = 0; i < nbb_cells.length; ++i) {\n",
       "                    if (nbb_cells[i].input_prompt_number == nbb_cell_id) {\n",
       "                        if (nbb_cells[i].get_text() == nbb_unformatted_code) {\n",
       "                             nbb_cells[i].set_text(nbb_formatted_code);\n",
       "                        }\n",
       "                        break;\n",
       "                    }\n",
       "                }\n",
       "            }, 500);\n",
       "            "
      ],
      "text/plain": [
       "<IPython.core.display.Javascript object>"
      ]
     },
     "metadata": {},
     "output_type": "display_data"
    }
   ],
   "source": [
    "image_profile_formatter = (\n",
    "    \"https://cellpainting-gallery.s3.amazonaws.com/cpg0016-jump/\"\n",
    "    \"{source}/workspace/analysis/{batch}/{plate}/analysis/{plate}-{well}-{img}/Image.csv\"\n",
    ")"
   ]
  },
  {
   "cell_type": "code",
   "execution_count": 47,
   "id": "743a37fe",
   "metadata": {},
   "outputs": [
    {
     "data": {
      "application/vnd.jupyter.widget-view+json": {
       "model_id": "b9d04129c57b4028b939b935f24d2281",
       "version_major": 2,
       "version_minor": 0
      },
      "text/plain": [
       "  0%|          | 0/1 [00:00<?, ?it/s]"
      ]
     },
     "metadata": {},
     "output_type": "display_data"
    },
    {
     "data": {
      "application/javascript": [
       "\n",
       "            setTimeout(function() {\n",
       "                var nbb_cell_id = 47;\n",
       "                var nbb_unformatted_code = \"img_dfs = []\\nfor i in tqdm(range(1)):\\n    entry_dict = {}\\n    entry = corf_data.iloc[i]\\n\\n    entry_dict[\\\"source\\\"] = entry.Metadata_Source\\n    entry_dict[\\\"plate\\\"] = entry.Metadata_Plate\\n    entry_dict[\\\"well\\\"] = entry.Metadata_Well\\n    entry_dict[\\\"batch\\\"] = entry.Metadata_Batch\\n    for i in range(1, 10):\\n        entry_dict[\\\"img\\\"] = i\\n        s3_path = image_profile_formatter.format(**entry_dict)\\n        img_df = pd.read_csv(s3_path)\\n        index = \\\"{}_{}\\\".format(entry.Metadata_JCP2022, i)\\n        img_df.index = [index]\\n        tmp = pd.DataFrame(\\n            entry_dict, index=[index]\\n        )\\n        img_df = tmp.join(img_df)\\n        img_dfs.append(img_df)\\n\\nimg_data = pd.concat(img_dfs)\";\n",
       "                var nbb_formatted_code = \"img_dfs = []\\nfor i in tqdm(range(1)):\\n    entry_dict = {}\\n    entry = corf_data.iloc[i]\\n\\n    entry_dict[\\\"source\\\"] = entry.Metadata_Source\\n    entry_dict[\\\"plate\\\"] = entry.Metadata_Plate\\n    entry_dict[\\\"well\\\"] = entry.Metadata_Well\\n    entry_dict[\\\"batch\\\"] = entry.Metadata_Batch\\n    for i in range(1, 10):\\n        entry_dict[\\\"img\\\"] = i\\n        s3_path = image_profile_formatter.format(**entry_dict)\\n        img_df = pd.read_csv(s3_path)\\n        index = \\\"{}_{}\\\".format(entry.Metadata_JCP2022, i)\\n        img_df.index = [index]\\n        tmp = pd.DataFrame(entry_dict, index=[index])\\n        img_df = tmp.join(img_df)\\n        img_dfs.append(img_df)\\n\\nimg_data = pd.concat(img_dfs)\";\n",
       "                var nbb_cells = Jupyter.notebook.get_cells();\n",
       "                for (var i = 0; i < nbb_cells.length; ++i) {\n",
       "                    if (nbb_cells[i].input_prompt_number == nbb_cell_id) {\n",
       "                        if (nbb_cells[i].get_text() == nbb_unformatted_code) {\n",
       "                             nbb_cells[i].set_text(nbb_formatted_code);\n",
       "                        }\n",
       "                        break;\n",
       "                    }\n",
       "                }\n",
       "            }, 500);\n",
       "            "
      ],
      "text/plain": [
       "<IPython.core.display.Javascript object>"
      ]
     },
     "metadata": {},
     "output_type": "display_data"
    }
   ],
   "source": [
    "img_dfs = []\n",
    "for i in tqdm(range(1)):\n",
    "    entry_dict = {}\n",
    "    entry = corf_data.iloc[i]\n",
    "\n",
    "    entry_dict[\"source\"] = entry.Metadata_Source\n",
    "    entry_dict[\"plate\"] = entry.Metadata_Plate\n",
    "    entry_dict[\"well\"] = entry.Metadata_Well\n",
    "    entry_dict[\"batch\"] = entry.Metadata_Batch\n",
    "    for i in range(1, 10):\n",
    "        entry_dict[\"img\"] = i\n",
    "        s3_path = image_profile_formatter.format(**entry_dict)\n",
    "        img_df = pd.read_csv(s3_path)\n",
    "        index = \"{}_{}\".format(entry.Metadata_JCP2022, i)\n",
    "        img_df.index = [index]\n",
    "        tmp = pd.DataFrame(entry_dict, index=[index])\n",
    "        img_df = tmp.join(img_df)\n",
    "        img_dfs.append(img_df)\n",
    "\n",
    "img_data = pd.concat(img_dfs)"
   ]
  },
  {
   "cell_type": "code",
   "execution_count": 48,
   "id": "00036f23",
   "metadata": {},
   "outputs": [
    {
     "data": {
      "text/html": [
       "<div>\n",
       "<style scoped>\n",
       "    .dataframe tbody tr th:only-of-type {\n",
       "        vertical-align: middle;\n",
       "    }\n",
       "\n",
       "    .dataframe tbody tr th {\n",
       "        vertical-align: top;\n",
       "    }\n",
       "\n",
       "    .dataframe thead th {\n",
       "        text-align: right;\n",
       "    }\n",
       "</style>\n",
       "<table border=\"1\" class=\"dataframe\">\n",
       "  <thead>\n",
       "    <tr style=\"text-align: right;\">\n",
       "      <th></th>\n",
       "      <th>source</th>\n",
       "      <th>plate</th>\n",
       "      <th>well</th>\n",
       "      <th>batch</th>\n",
       "      <th>img</th>\n",
       "      <th>Count_Cells</th>\n",
       "      <th>Count_CellsIncludingEdges</th>\n",
       "      <th>Count_Cytoplasm</th>\n",
       "      <th>Count_Nuclei</th>\n",
       "      <th>Count_NucleiIncludingEdges</th>\n",
       "      <th>...</th>\n",
       "      <th>Width_IllumMito</th>\n",
       "      <th>Width_IllumRNA</th>\n",
       "      <th>Width_OrigAGP</th>\n",
       "      <th>Width_OrigBrightfield</th>\n",
       "      <th>Width_OrigBrightfield_H</th>\n",
       "      <th>Width_OrigBrightfield_L</th>\n",
       "      <th>Width_OrigDNA</th>\n",
       "      <th>Width_OrigER</th>\n",
       "      <th>Width_OrigMito</th>\n",
       "      <th>Width_OrigRNA</th>\n",
       "    </tr>\n",
       "  </thead>\n",
       "  <tbody>\n",
       "    <tr>\n",
       "      <th>JCP2022_900331_1</th>\n",
       "      <td>source_4</td>\n",
       "      <td>BR00117035</td>\n",
       "      <td>E06</td>\n",
       "      <td>2021_04_26_Batch1</td>\n",
       "      <td>1</td>\n",
       "      <td>84.0</td>\n",
       "      <td>92.0</td>\n",
       "      <td>84.0</td>\n",
       "      <td>84.0</td>\n",
       "      <td>92.0</td>\n",
       "      <td>...</td>\n",
       "      <td>1080</td>\n",
       "      <td>1080</td>\n",
       "      <td>1080</td>\n",
       "      <td>1080</td>\n",
       "      <td>1080</td>\n",
       "      <td>1080</td>\n",
       "      <td>1080</td>\n",
       "      <td>1080</td>\n",
       "      <td>1080</td>\n",
       "      <td>1080</td>\n",
       "    </tr>\n",
       "    <tr>\n",
       "      <th>JCP2022_900331_2</th>\n",
       "      <td>source_4</td>\n",
       "      <td>BR00117035</td>\n",
       "      <td>E06</td>\n",
       "      <td>2021_04_26_Batch1</td>\n",
       "      <td>2</td>\n",
       "      <td>164.0</td>\n",
       "      <td>181.0</td>\n",
       "      <td>164.0</td>\n",
       "      <td>164.0</td>\n",
       "      <td>181.0</td>\n",
       "      <td>...</td>\n",
       "      <td>1080</td>\n",
       "      <td>1080</td>\n",
       "      <td>1080</td>\n",
       "      <td>1080</td>\n",
       "      <td>1080</td>\n",
       "      <td>1080</td>\n",
       "      <td>1080</td>\n",
       "      <td>1080</td>\n",
       "      <td>1080</td>\n",
       "      <td>1080</td>\n",
       "    </tr>\n",
       "    <tr>\n",
       "      <th>JCP2022_900331_3</th>\n",
       "      <td>source_4</td>\n",
       "      <td>BR00117035</td>\n",
       "      <td>E06</td>\n",
       "      <td>2021_04_26_Batch1</td>\n",
       "      <td>3</td>\n",
       "      <td>148.0</td>\n",
       "      <td>166.0</td>\n",
       "      <td>148.0</td>\n",
       "      <td>148.0</td>\n",
       "      <td>166.0</td>\n",
       "      <td>...</td>\n",
       "      <td>1080</td>\n",
       "      <td>1080</td>\n",
       "      <td>1080</td>\n",
       "      <td>1080</td>\n",
       "      <td>1080</td>\n",
       "      <td>1080</td>\n",
       "      <td>1080</td>\n",
       "      <td>1080</td>\n",
       "      <td>1080</td>\n",
       "      <td>1080</td>\n",
       "    </tr>\n",
       "    <tr>\n",
       "      <th>JCP2022_900331_4</th>\n",
       "      <td>source_4</td>\n",
       "      <td>BR00117035</td>\n",
       "      <td>E06</td>\n",
       "      <td>2021_04_26_Batch1</td>\n",
       "      <td>4</td>\n",
       "      <td>205.0</td>\n",
       "      <td>225.0</td>\n",
       "      <td>205.0</td>\n",
       "      <td>205.0</td>\n",
       "      <td>225.0</td>\n",
       "      <td>...</td>\n",
       "      <td>1080</td>\n",
       "      <td>1080</td>\n",
       "      <td>1080</td>\n",
       "      <td>1080</td>\n",
       "      <td>1080</td>\n",
       "      <td>1080</td>\n",
       "      <td>1080</td>\n",
       "      <td>1080</td>\n",
       "      <td>1080</td>\n",
       "      <td>1080</td>\n",
       "    </tr>\n",
       "    <tr>\n",
       "      <th>JCP2022_900331_5</th>\n",
       "      <td>source_4</td>\n",
       "      <td>BR00117035</td>\n",
       "      <td>E06</td>\n",
       "      <td>2021_04_26_Batch1</td>\n",
       "      <td>5</td>\n",
       "      <td>143.0</td>\n",
       "      <td>158.0</td>\n",
       "      <td>143.0</td>\n",
       "      <td>143.0</td>\n",
       "      <td>158.0</td>\n",
       "      <td>...</td>\n",
       "      <td>1080</td>\n",
       "      <td>1080</td>\n",
       "      <td>1080</td>\n",
       "      <td>1080</td>\n",
       "      <td>1080</td>\n",
       "      <td>1080</td>\n",
       "      <td>1080</td>\n",
       "      <td>1080</td>\n",
       "      <td>1080</td>\n",
       "      <td>1080</td>\n",
       "    </tr>\n",
       "    <tr>\n",
       "      <th>JCP2022_900331_6</th>\n",
       "      <td>source_4</td>\n",
       "      <td>BR00117035</td>\n",
       "      <td>E06</td>\n",
       "      <td>2021_04_26_Batch1</td>\n",
       "      <td>6</td>\n",
       "      <td>43.0</td>\n",
       "      <td>51.0</td>\n",
       "      <td>43.0</td>\n",
       "      <td>43.0</td>\n",
       "      <td>51.0</td>\n",
       "      <td>...</td>\n",
       "      <td>1080</td>\n",
       "      <td>1080</td>\n",
       "      <td>1080</td>\n",
       "      <td>1080</td>\n",
       "      <td>1080</td>\n",
       "      <td>1080</td>\n",
       "      <td>1080</td>\n",
       "      <td>1080</td>\n",
       "      <td>1080</td>\n",
       "      <td>1080</td>\n",
       "    </tr>\n",
       "    <tr>\n",
       "      <th>JCP2022_900331_7</th>\n",
       "      <td>source_4</td>\n",
       "      <td>BR00117035</td>\n",
       "      <td>E06</td>\n",
       "      <td>2021_04_26_Batch1</td>\n",
       "      <td>7</td>\n",
       "      <td>35.0</td>\n",
       "      <td>41.0</td>\n",
       "      <td>35.0</td>\n",
       "      <td>35.0</td>\n",
       "      <td>41.0</td>\n",
       "      <td>...</td>\n",
       "      <td>1080</td>\n",
       "      <td>1080</td>\n",
       "      <td>1080</td>\n",
       "      <td>1080</td>\n",
       "      <td>1080</td>\n",
       "      <td>1080</td>\n",
       "      <td>1080</td>\n",
       "      <td>1080</td>\n",
       "      <td>1080</td>\n",
       "      <td>1080</td>\n",
       "    </tr>\n",
       "    <tr>\n",
       "      <th>JCP2022_900331_8</th>\n",
       "      <td>source_4</td>\n",
       "      <td>BR00117035</td>\n",
       "      <td>E06</td>\n",
       "      <td>2021_04_26_Batch1</td>\n",
       "      <td>8</td>\n",
       "      <td>60.0</td>\n",
       "      <td>67.0</td>\n",
       "      <td>60.0</td>\n",
       "      <td>60.0</td>\n",
       "      <td>67.0</td>\n",
       "      <td>...</td>\n",
       "      <td>1080</td>\n",
       "      <td>1080</td>\n",
       "      <td>1080</td>\n",
       "      <td>1080</td>\n",
       "      <td>1080</td>\n",
       "      <td>1080</td>\n",
       "      <td>1080</td>\n",
       "      <td>1080</td>\n",
       "      <td>1080</td>\n",
       "      <td>1080</td>\n",
       "    </tr>\n",
       "    <tr>\n",
       "      <th>JCP2022_900331_9</th>\n",
       "      <td>source_4</td>\n",
       "      <td>BR00117035</td>\n",
       "      <td>E06</td>\n",
       "      <td>2021_04_26_Batch1</td>\n",
       "      <td>9</td>\n",
       "      <td>99.0</td>\n",
       "      <td>105.0</td>\n",
       "      <td>99.0</td>\n",
       "      <td>99.0</td>\n",
       "      <td>105.0</td>\n",
       "      <td>...</td>\n",
       "      <td>1080</td>\n",
       "      <td>1080</td>\n",
       "      <td>1080</td>\n",
       "      <td>1080</td>\n",
       "      <td>1080</td>\n",
       "      <td>1080</td>\n",
       "      <td>1080</td>\n",
       "      <td>1080</td>\n",
       "      <td>1080</td>\n",
       "      <td>1080</td>\n",
       "    </tr>\n",
       "  </tbody>\n",
       "</table>\n",
       "<p>9 rows × 1963 columns</p>\n",
       "</div>"
      ],
      "text/plain": [
       "                    source       plate well              batch  img  \\\n",
       "JCP2022_900331_1  source_4  BR00117035  E06  2021_04_26_Batch1    1   \n",
       "JCP2022_900331_2  source_4  BR00117035  E06  2021_04_26_Batch1    2   \n",
       "JCP2022_900331_3  source_4  BR00117035  E06  2021_04_26_Batch1    3   \n",
       "JCP2022_900331_4  source_4  BR00117035  E06  2021_04_26_Batch1    4   \n",
       "JCP2022_900331_5  source_4  BR00117035  E06  2021_04_26_Batch1    5   \n",
       "JCP2022_900331_6  source_4  BR00117035  E06  2021_04_26_Batch1    6   \n",
       "JCP2022_900331_7  source_4  BR00117035  E06  2021_04_26_Batch1    7   \n",
       "JCP2022_900331_8  source_4  BR00117035  E06  2021_04_26_Batch1    8   \n",
       "JCP2022_900331_9  source_4  BR00117035  E06  2021_04_26_Batch1    9   \n",
       "\n",
       "                  Count_Cells  Count_CellsIncludingEdges  Count_Cytoplasm  \\\n",
       "JCP2022_900331_1         84.0                       92.0             84.0   \n",
       "JCP2022_900331_2        164.0                      181.0            164.0   \n",
       "JCP2022_900331_3        148.0                      166.0            148.0   \n",
       "JCP2022_900331_4        205.0                      225.0            205.0   \n",
       "JCP2022_900331_5        143.0                      158.0            143.0   \n",
       "JCP2022_900331_6         43.0                       51.0             43.0   \n",
       "JCP2022_900331_7         35.0                       41.0             35.0   \n",
       "JCP2022_900331_8         60.0                       67.0             60.0   \n",
       "JCP2022_900331_9         99.0                      105.0             99.0   \n",
       "\n",
       "                  Count_Nuclei  Count_NucleiIncludingEdges  ...  \\\n",
       "JCP2022_900331_1          84.0                        92.0  ...   \n",
       "JCP2022_900331_2         164.0                       181.0  ...   \n",
       "JCP2022_900331_3         148.0                       166.0  ...   \n",
       "JCP2022_900331_4         205.0                       225.0  ...   \n",
       "JCP2022_900331_5         143.0                       158.0  ...   \n",
       "JCP2022_900331_6          43.0                        51.0  ...   \n",
       "JCP2022_900331_7          35.0                        41.0  ...   \n",
       "JCP2022_900331_8          60.0                        67.0  ...   \n",
       "JCP2022_900331_9          99.0                       105.0  ...   \n",
       "\n",
       "                  Width_IllumMito  Width_IllumRNA  Width_OrigAGP  \\\n",
       "JCP2022_900331_1             1080            1080           1080   \n",
       "JCP2022_900331_2             1080            1080           1080   \n",
       "JCP2022_900331_3             1080            1080           1080   \n",
       "JCP2022_900331_4             1080            1080           1080   \n",
       "JCP2022_900331_5             1080            1080           1080   \n",
       "JCP2022_900331_6             1080            1080           1080   \n",
       "JCP2022_900331_7             1080            1080           1080   \n",
       "JCP2022_900331_8             1080            1080           1080   \n",
       "JCP2022_900331_9             1080            1080           1080   \n",
       "\n",
       "                  Width_OrigBrightfield  Width_OrigBrightfield_H  \\\n",
       "JCP2022_900331_1                   1080                     1080   \n",
       "JCP2022_900331_2                   1080                     1080   \n",
       "JCP2022_900331_3                   1080                     1080   \n",
       "JCP2022_900331_4                   1080                     1080   \n",
       "JCP2022_900331_5                   1080                     1080   \n",
       "JCP2022_900331_6                   1080                     1080   \n",
       "JCP2022_900331_7                   1080                     1080   \n",
       "JCP2022_900331_8                   1080                     1080   \n",
       "JCP2022_900331_9                   1080                     1080   \n",
       "\n",
       "                  Width_OrigBrightfield_L  Width_OrigDNA  Width_OrigER  \\\n",
       "JCP2022_900331_1                     1080           1080          1080   \n",
       "JCP2022_900331_2                     1080           1080          1080   \n",
       "JCP2022_900331_3                     1080           1080          1080   \n",
       "JCP2022_900331_4                     1080           1080          1080   \n",
       "JCP2022_900331_5                     1080           1080          1080   \n",
       "JCP2022_900331_6                     1080           1080          1080   \n",
       "JCP2022_900331_7                     1080           1080          1080   \n",
       "JCP2022_900331_8                     1080           1080          1080   \n",
       "JCP2022_900331_9                     1080           1080          1080   \n",
       "\n",
       "                  Width_OrigMito  Width_OrigRNA  \n",
       "JCP2022_900331_1            1080           1080  \n",
       "JCP2022_900331_2            1080           1080  \n",
       "JCP2022_900331_3            1080           1080  \n",
       "JCP2022_900331_4            1080           1080  \n",
       "JCP2022_900331_5            1080           1080  \n",
       "JCP2022_900331_6            1080           1080  \n",
       "JCP2022_900331_7            1080           1080  \n",
       "JCP2022_900331_8            1080           1080  \n",
       "JCP2022_900331_9            1080           1080  \n",
       "\n",
       "[9 rows x 1963 columns]"
      ]
     },
     "execution_count": 48,
     "metadata": {},
     "output_type": "execute_result"
    },
    {
     "data": {
      "application/javascript": [
       "\n",
       "            setTimeout(function() {\n",
       "                var nbb_cell_id = 48;\n",
       "                var nbb_unformatted_code = \"img_data\";\n",
       "                var nbb_formatted_code = \"img_data\";\n",
       "                var nbb_cells = Jupyter.notebook.get_cells();\n",
       "                for (var i = 0; i < nbb_cells.length; ++i) {\n",
       "                    if (nbb_cells[i].input_prompt_number == nbb_cell_id) {\n",
       "                        if (nbb_cells[i].get_text() == nbb_unformatted_code) {\n",
       "                             nbb_cells[i].set_text(nbb_formatted_code);\n",
       "                        }\n",
       "                        break;\n",
       "                    }\n",
       "                }\n",
       "            }, 500);\n",
       "            "
      ],
      "text/plain": [
       "<IPython.core.display.Javascript object>"
      ]
     },
     "metadata": {},
     "output_type": "display_data"
    }
   ],
   "source": [
    "img_data"
   ]
  },
  {
   "cell_type": "code",
   "execution_count": null,
   "id": "7334c109",
   "metadata": {},
   "outputs": [],
   "source": []
  }
 ],
 "metadata": {
  "kernelspec": {
   "display_name": "Python 3 (ipykernel)",
   "language": "python",
   "name": "python3"
  },
  "language_info": {
   "codemirror_mode": {
    "name": "ipython",
    "version": 3
   },
   "file_extension": ".py",
   "mimetype": "text/x-python",
   "name": "python",
   "nbconvert_exporter": "python",
   "pygments_lexer": "ipython3",
   "version": "3.10.9"
  }
 },
 "nbformat": 4,
 "nbformat_minor": 5
}
